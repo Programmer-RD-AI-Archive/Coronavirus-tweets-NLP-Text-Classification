{
 "cells": [
  {
   "cell_type": "code",
   "execution_count": 1,
   "id": "c37c9ba6-6cd5-46db-af54-82be57e11755",
   "metadata": {},
   "outputs": [],
   "source": [
    "import wandb\n",
    "import nltk\n",
    "from nltk.stem.porter import *\n",
    "from torch.nn import *\n",
    "from torch.optim import *\n",
    "import numpy as np\n",
    "import pandas as pd\n",
    "import torch,torchvision\n",
    "import random\n",
    "from tqdm import *\n",
    "from torch.utils.data import Dataset,DataLoader\n",
    "stemmer = PorterStemmer()\n",
    "PROJECT_NAME = 'kickstarter-NLP-v3'\n",
    "device = 'cuda'"
   ]
  },
  {
   "cell_type": "code",
   "execution_count": 2,
   "id": "108cd4c7-b7fc-4d6c-9c54-ed8de13451a4",
   "metadata": {},
   "outputs": [],
   "source": [
    "def tokenize(sentence):\n",
    "    return nltk.word_tokenize(sentence.lower())"
   ]
  },
  {
   "cell_type": "code",
   "execution_count": 3,
   "id": "8f74467b-df05-4505-b815-7e190a78d3d7",
   "metadata": {},
   "outputs": [
    {
     "data": {
      "text/plain": [
       "['$', '100']"
      ]
     },
     "execution_count": 3,
     "metadata": {},
     "output_type": "execute_result"
    }
   ],
   "source": [
    "tokenize('$100')"
   ]
  },
  {
   "cell_type": "code",
   "execution_count": 4,
   "id": "e867a61a-0a6a-4efe-b9be-a8a781442082",
   "metadata": {},
   "outputs": [],
   "source": [
    "def stem(word):\n",
    "    return stemmer.stem(word.lower())"
   ]
  },
  {
   "cell_type": "code",
   "execution_count": 5,
   "id": "6c4fb8ff-5042-4088-9bea-ae0e36c08ca0",
   "metadata": {},
   "outputs": [
    {
     "data": {
      "text/plain": [
       "'organ'"
      ]
     },
     "execution_count": 5,
     "metadata": {},
     "output_type": "execute_result"
    }
   ],
   "source": [
    "stem('organic')"
   ]
  },
  {
   "cell_type": "code",
   "execution_count": 6,
   "id": "a055f0f5-03f1-4de0-b7ea-9062224c5744",
   "metadata": {},
   "outputs": [],
   "source": [
    "def bag_of_words(tokenized_words,all_words):\n",
    "    tokenized_words = [stem(w) for w in tokenized_words]\n",
    "    bag = np.zeros(len(all_words))\n",
    "    for idx,w in enumerate(all_words):\n",
    "        if w in tokenized_words:\n",
    "            bag[idx] = 1.0\n",
    "    return bag"
   ]
  },
  {
   "cell_type": "code",
   "execution_count": 7,
   "id": "5d355042-9145-4b5e-8fce-c5cce863e40f",
   "metadata": {},
   "outputs": [
    {
     "data": {
      "text/plain": [
       "array([1., 0., 1.])"
      ]
     },
     "execution_count": 7,
     "metadata": {},
     "output_type": "execute_result"
    }
   ],
   "source": [
    "bag_of_words(['hi'],['hi','how','hi'])"
   ]
  },
  {
   "cell_type": "code",
   "execution_count": 8,
   "id": "d41a740b-b056-4862-9db0-206e46e3db13",
   "metadata": {},
   "outputs": [],
   "source": [
    "data = pd.read_csv('./data.csv',encoding='latin-1')[:5000]"
   ]
  },
  {
   "cell_type": "code",
   "execution_count": 9,
   "id": "a8a4177a-f65b-4601-842a-c6e0fae0321f",
   "metadata": {},
   "outputs": [
    {
     "data": {
      "text/html": [
       "<div>\n",
       "<style scoped>\n",
       "    .dataframe tbody tr th:only-of-type {\n",
       "        vertical-align: middle;\n",
       "    }\n",
       "\n",
       "    .dataframe tbody tr th {\n",
       "        vertical-align: top;\n",
       "    }\n",
       "\n",
       "    .dataframe thead th {\n",
       "        text-align: right;\n",
       "    }\n",
       "</style>\n",
       "<table border=\"1\" class=\"dataframe\">\n",
       "  <thead>\n",
       "    <tr style=\"text-align: right;\">\n",
       "      <th></th>\n",
       "      <th>UserName</th>\n",
       "      <th>ScreenName</th>\n",
       "      <th>Location</th>\n",
       "      <th>TweetAt</th>\n",
       "      <th>OriginalTweet</th>\n",
       "      <th>Sentiment</th>\n",
       "    </tr>\n",
       "  </thead>\n",
       "  <tbody>\n",
       "    <tr>\n",
       "      <th>0</th>\n",
       "      <td>3799</td>\n",
       "      <td>48751</td>\n",
       "      <td>London</td>\n",
       "      <td>16-03-2020</td>\n",
       "      <td>@MeNyrbie @Phil_Gahan @Chrisitv https://t.co/i...</td>\n",
       "      <td>Neutral</td>\n",
       "    </tr>\n",
       "    <tr>\n",
       "      <th>1</th>\n",
       "      <td>3800</td>\n",
       "      <td>48752</td>\n",
       "      <td>UK</td>\n",
       "      <td>16-03-2020</td>\n",
       "      <td>advice Talk to your neighbours family to excha...</td>\n",
       "      <td>Positive</td>\n",
       "    </tr>\n",
       "    <tr>\n",
       "      <th>2</th>\n",
       "      <td>3801</td>\n",
       "      <td>48753</td>\n",
       "      <td>Vagabonds</td>\n",
       "      <td>16-03-2020</td>\n",
       "      <td>Coronavirus Australia: Woolworths to give elde...</td>\n",
       "      <td>Positive</td>\n",
       "    </tr>\n",
       "    <tr>\n",
       "      <th>3</th>\n",
       "      <td>3802</td>\n",
       "      <td>48754</td>\n",
       "      <td>NaN</td>\n",
       "      <td>16-03-2020</td>\n",
       "      <td>My food stock is not the only one which is emp...</td>\n",
       "      <td>Positive</td>\n",
       "    </tr>\n",
       "    <tr>\n",
       "      <th>4</th>\n",
       "      <td>3803</td>\n",
       "      <td>48755</td>\n",
       "      <td>NaN</td>\n",
       "      <td>16-03-2020</td>\n",
       "      <td>Me, ready to go at supermarket during the #COV...</td>\n",
       "      <td>Extremely Negative</td>\n",
       "    </tr>\n",
       "    <tr>\n",
       "      <th>...</th>\n",
       "      <td>...</td>\n",
       "      <td>...</td>\n",
       "      <td>...</td>\n",
       "      <td>...</td>\n",
       "      <td>...</td>\n",
       "      <td>...</td>\n",
       "    </tr>\n",
       "    <tr>\n",
       "      <th>4995</th>\n",
       "      <td>8794</td>\n",
       "      <td>53746</td>\n",
       "      <td>Nagpur, India</td>\n",
       "      <td>18-03-2020</td>\n",
       "      <td>Why is Government not transmitting benefits of...</td>\n",
       "      <td>Positive</td>\n",
       "    </tr>\n",
       "    <tr>\n",
       "      <th>4996</th>\n",
       "      <td>8795</td>\n",
       "      <td>53747</td>\n",
       "      <td>London</td>\n",
       "      <td>18-03-2020</td>\n",
       "      <td>\"As long as we're not seeing markets I would c...</td>\n",
       "      <td>Extremely Positive</td>\n",
       "    </tr>\n",
       "    <tr>\n",
       "      <th>4997</th>\n",
       "      <td>8796</td>\n",
       "      <td>53748</td>\n",
       "      <td>Victoria, London</td>\n",
       "      <td>18-03-2020</td>\n",
       "      <td>Will school fees be refunded if the #coronavir...</td>\n",
       "      <td>Neutral</td>\n",
       "    </tr>\n",
       "    <tr>\n",
       "      <th>4998</th>\n",
       "      <td>8797</td>\n",
       "      <td>53749</td>\n",
       "      <td>United States</td>\n",
       "      <td>18-03-2020</td>\n",
       "      <td>#USD continues its dominance, markets rebounde...</td>\n",
       "      <td>Negative</td>\n",
       "    </tr>\n",
       "    <tr>\n",
       "      <th>4999</th>\n",
       "      <td>8798</td>\n",
       "      <td>53750</td>\n",
       "      <td>DC, dreaming of Norway</td>\n",
       "      <td>18-03-2020</td>\n",
       "      <td>I guess the new normal is hitting the grocery ...</td>\n",
       "      <td>Neutral</td>\n",
       "    </tr>\n",
       "  </tbody>\n",
       "</table>\n",
       "<p>5000 rows × 6 columns</p>\n",
       "</div>"
      ],
      "text/plain": [
       "      UserName  ScreenName                Location     TweetAt  \\\n",
       "0         3799       48751                  London  16-03-2020   \n",
       "1         3800       48752                      UK  16-03-2020   \n",
       "2         3801       48753               Vagabonds  16-03-2020   \n",
       "3         3802       48754                     NaN  16-03-2020   \n",
       "4         3803       48755                     NaN  16-03-2020   \n",
       "...        ...         ...                     ...         ...   \n",
       "4995      8794       53746           Nagpur, India  18-03-2020   \n",
       "4996      8795       53747                  London  18-03-2020   \n",
       "4997      8796       53748        Victoria, London  18-03-2020   \n",
       "4998      8797       53749           United States  18-03-2020   \n",
       "4999      8798       53750  DC, dreaming of Norway  18-03-2020   \n",
       "\n",
       "                                          OriginalTweet           Sentiment  \n",
       "0     @MeNyrbie @Phil_Gahan @Chrisitv https://t.co/i...             Neutral  \n",
       "1     advice Talk to your neighbours family to excha...            Positive  \n",
       "2     Coronavirus Australia: Woolworths to give elde...            Positive  \n",
       "3     My food stock is not the only one which is emp...            Positive  \n",
       "4     Me, ready to go at supermarket during the #COV...  Extremely Negative  \n",
       "...                                                 ...                 ...  \n",
       "4995  Why is Government not transmitting benefits of...            Positive  \n",
       "4996  \"As long as we're not seeing markets I would c...  Extremely Positive  \n",
       "4997  Will school fees be refunded if the #coronavir...             Neutral  \n",
       "4998  #USD continues its dominance, markets rebounde...            Negative  \n",
       "4999  I guess the new normal is hitting the grocery ...             Neutral  \n",
       "\n",
       "[5000 rows x 6 columns]"
      ]
     },
     "execution_count": 9,
     "metadata": {},
     "output_type": "execute_result"
    }
   ],
   "source": [
    "data"
   ]
  },
  {
   "cell_type": "code",
   "execution_count": 10,
   "id": "cbb8e7a4-fdaf-42bc-9047-4ca44ce06555",
   "metadata": {},
   "outputs": [],
   "source": [
    "X = data['OriginalTweet']\n",
    "y = data['Sentiment']"
   ]
  },
  {
   "cell_type": "code",
   "execution_count": 11,
   "id": "a4fda9d0-95fd-42ca-a072-4e8a8b2bde4e",
   "metadata": {},
   "outputs": [],
   "source": [
    "words = []\n",
    "data = []\n",
    "idx = 0\n",
    "labels = {}\n",
    "labels_r = {}"
   ]
  },
  {
   "cell_type": "code",
   "execution_count": 12,
   "id": "1c031869-55ea-44ea-bb8c-d653ddad39bf",
   "metadata": {},
   "outputs": [],
   "source": [
    "for label in y:\n",
    "    if label not in list(labels.keys()):\n",
    "        idx += 1\n",
    "        labels[label] = idx\n",
    "        labels_r[idx] = label"
   ]
  },
  {
   "cell_type": "code",
   "execution_count": 13,
   "id": "953f73e8-658b-40a2-b180-1c8b0bc7d760",
   "metadata": {},
   "outputs": [
    {
     "name": "stderr",
     "output_type": "stream",
     "text": [
      "5000it [00:03, 1580.99it/s]\n"
     ]
    }
   ],
   "source": [
    "for X_batch,y_batch in tqdm(zip(X,y)):\n",
    "    X_batch = tokenize(X_batch)\n",
    "    new_X = []\n",
    "    for Xb in X_batch:\n",
    "        new_X.append(stem(Xb))\n",
    "    words.extend(new_X)\n",
    "    data.append([\n",
    "        new_X,\n",
    "        np.eye(labels[y_batch],len(labels))[labels[y_batch]-1]\n",
    "    ])"
   ]
  },
  {
   "cell_type": "code",
   "execution_count": 14,
   "id": "dbe787b8-ac48-4576-bd1d-067e02bc379e",
   "metadata": {},
   "outputs": [],
   "source": [
    "words = sorted(set(words))\n",
    "np.random.shuffle(words)"
   ]
  },
  {
   "cell_type": "code",
   "execution_count": 15,
   "id": "da038f3d-ff9d-4eac-90d9-2731da2a55df",
   "metadata": {},
   "outputs": [],
   "source": [
    "np.random.shuffle(data)"
   ]
  },
  {
   "cell_type": "code",
   "execution_count": 16,
   "id": "17baf98c-5261-4e37-8aef-9f56e550824b",
   "metadata": {},
   "outputs": [],
   "source": [
    "X = []\n",
    "y = []"
   ]
  },
  {
   "cell_type": "code",
   "execution_count": 17,
   "id": "1bd11fd1-9464-47ff-8921-906cefb1d97b",
   "metadata": {},
   "outputs": [
    {
     "name": "stderr",
     "output_type": "stream",
     "text": [
      "100%|██████████████████████████████████████| 5000/5000 [00:23<00:00, 210.17it/s]\n"
     ]
    }
   ],
   "source": [
    "for X_batch,y_batch in tqdm(data):\n",
    "    X.append(bag_of_words(X_batch,words))\n",
    "    y.append(y_batch)"
   ]
  },
  {
   "cell_type": "code",
   "execution_count": 18,
   "id": "0017202f-475a-420e-8221-0db6961928af",
   "metadata": {},
   "outputs": [],
   "source": [
    "from sklearn.model_selection import *\n",
    "X_train,X_test,y_train,y_test = train_test_split(X,y,test_size=0.125,shuffle=False)\n",
    "X_train = torch.from_numpy(np.array(X_train)).to(device).float()\n",
    "y_train = torch.from_numpy(np.array(y_train)).to(device).float()\n",
    "X_test = torch.from_numpy(np.array(X_test)).to(device).float()\n",
    "y_test = torch.from_numpy(np.array(y_test)).to(device).float()"
   ]
  },
  {
   "cell_type": "code",
   "execution_count": 19,
   "id": "cb6e67e4-682e-4ee2-be9f-d043408b59fe",
   "metadata": {},
   "outputs": [],
   "source": [
    "def get_loss(model,X,y,criterion):\n",
    "    preds = model(X)\n",
    "    loss = criterion(preds,y)\n",
    "    return loss.item()"
   ]
  },
  {
   "cell_type": "code",
   "execution_count": 20,
   "id": "153a3c55-3a66-4d1a-9a17-1005a4d6560e",
   "metadata": {},
   "outputs": [],
   "source": [
    "def get_accuracy(model,X,y):\n",
    "    preds = model(X)\n",
    "    correct = 0\n",
    "    total = 0\n",
    "    for pred,yb in zip(preds,y):\n",
    "        pred = int(torch.argmax(pred))\n",
    "        yb = int(torch.argmax(yb))\n",
    "        if pred == yb:\n",
    "            correct += 1\n",
    "        total += 1\n",
    "    acc = round(correct/total,3)*100\n",
    "    return acc"
   ]
  },
  {
   "cell_type": "code",
   "execution_count": 21,
   "id": "5777a044-366f-45c6-b144-f51caf772fef",
   "metadata": {},
   "outputs": [],
   "source": [
    "class Model(Module):\n",
    "    def __init__(self):\n",
    "        super().__init__()\n",
    "        self.activation = ReLU()\n",
    "        self.iters = 2\n",
    "        self.dropout = Dropout()\n",
    "        self.hidden = 512\n",
    "        self.linear1 = Linear(len(words),self.hidden)\n",
    "        self.linear2 = Linear(self.hidden,self.hidden)\n",
    "        self.linear3 = Linear(self.hidden,self.hidden)\n",
    "        self.linear4 = Linear(self.hidden,self.hidden)\n",
    "        self.linear5 = Linear(self.hidden,self.hidden)\n",
    "        self.output = Linear(self.hidden,len(labels))\n",
    "    \n",
    "    def forward(self,X):\n",
    "        preds = self.linear1(X)\n",
    "        preds = self.activation(self.linear2(preds))\n",
    "        for _ in range(self.iters):\n",
    "            preds = self.dropout(self.activation(self.linear3(preds)))\n",
    "        preds = self.activation(self.linear4(preds))\n",
    "        preds = self.activation(self.linear5(preds))\n",
    "        preds = self.output(preds)\n",
    "        return preds"
   ]
  },
  {
   "cell_type": "code",
   "execution_count": 22,
   "id": "34723409-46c0-4cc4-9aeb-1c7e52095eb6",
   "metadata": {},
   "outputs": [],
   "source": [
    "model = Model().to(device)\n",
    "criterion = MSELoss()\n",
    "optimizer = Adam(model.parameters(),lr=0.001)\n",
    "epochs = 100\n",
    "batch_size = 32"
   ]
  },
  {
   "cell_type": "code",
   "execution_count": 23,
   "id": "38554e5c-70b8-4478-9e70-4a6cb777f012",
   "metadata": {},
   "outputs": [],
   "source": [
    "torch.save(model,'model-custom.pt')\n",
    "torch.save(model,'model-custom.pth')\n",
    "torch.save(model.state_dict(),'model-custom-sd.pt')\n",
    "torch.save(model.state_dict(),'model-custom-sd.pth')\n",
    "torch.save(words,'words.pt')\n",
    "torch.save(words,'words.pth')\n",
    "torch.save(data,'data.pt')\n",
    "torch.save(data,'data.pth')\n",
    "torch.save(labels,'labels.pt')\n",
    "torch.save(labels,'labels.pth')\n",
    "torch.save(idx,'idx.pt')\n",
    "torch.save(idx,'idx.pth')\n",
    "torch.save(y_train,'y_train.pt')\n",
    "torch.save(y_test,'y_test.pth')"
   ]
  },
  {
   "cell_type": "code",
   "execution_count": 24,
   "id": "db4fd4a8-4a99-4ce2-a4a0-b5f4234e25dd",
   "metadata": {},
   "outputs": [
    {
     "name": "stderr",
     "output_type": "stream",
     "text": [
      "\u001b[34m\u001b[1mwandb\u001b[0m: Currently logged in as: \u001b[33mranuga-d\u001b[0m (use `wandb login --relogin` to force relogin)\n",
      "\u001b[34m\u001b[1mwandb\u001b[0m: wandb version 0.12.4 is available!  To upgrade, please run:\n",
      "\u001b[34m\u001b[1mwandb\u001b[0m:  $ pip install wandb --upgrade\n"
     ]
    },
    {
     "data": {
      "text/html": [
       "\n",
       "                Tracking run with wandb version 0.12.1<br/>\n",
       "                Syncing run <strong style=\"color:#cdcd00\">baseline</strong> to <a href=\"https://wandb.ai\" target=\"_blank\">Weights & Biases</a> <a href=\"https://docs.wandb.com/integrations/jupyter.html\" target=\"_blank\">(Documentation)</a>.<br/>\n",
       "                Project page: <a href=\"https://wandb.ai/ranuga-d/kickstarter-NLP-v3\" target=\"_blank\">https://wandb.ai/ranuga-d/kickstarter-NLP-v3</a><br/>\n",
       "                Run page: <a href=\"https://wandb.ai/ranuga-d/kickstarter-NLP-v3/runs/1lx9jtvc\" target=\"_blank\">https://wandb.ai/ranuga-d/kickstarter-NLP-v3/runs/1lx9jtvc</a><br/>\n",
       "                Run data is saved locally in <code>/home/indika/Programming/Projects/Python/Artifical-Intelligence/PyTorch/NLP/Coronavirus-tweets-NLP-Text-Classification/wandb/run-20211009_203938-1lx9jtvc</code><br/><br/>\n",
       "            "
      ],
      "text/plain": [
       "<IPython.core.display.HTML object>"
      ]
     },
     "metadata": {},
     "output_type": "display_data"
    },
    {
     "name": "stderr",
     "output_type": "stream",
     "text": [
      "100%|█████████████████████████████████████████| 100/100 [01:10<00:00,  1.43it/s]\n"
     ]
    },
    {
     "data": {
      "text/html": [
       "<br/>Waiting for W&B process to finish, PID 968472<br/>Program ended successfully."
      ],
      "text/plain": [
       "<IPython.core.display.HTML object>"
      ]
     },
     "metadata": {},
     "output_type": "display_data"
    },
    {
     "data": {
      "application/vnd.jupyter.widget-view+json": {
       "model_id": "",
       "version_major": 2,
       "version_minor": 0
      },
      "text/plain": [
       "VBox(children=(Label(value=' 0.03MB of 0.03MB uploaded (0.00MB deduped)\\r'), FloatProgress(value=1.0, max=1.0)…"
      ]
     },
     "metadata": {},
     "output_type": "display_data"
    },
    {
     "data": {
      "text/html": [
       "Find user logs for this run at: <code>/home/indika/Programming/Projects/Python/Artifical-Intelligence/PyTorch/NLP/Coronavirus-tweets-NLP-Text-Classification/wandb/run-20211009_203938-1lx9jtvc/logs/debug.log</code>"
      ],
      "text/plain": [
       "<IPython.core.display.HTML object>"
      ]
     },
     "metadata": {},
     "output_type": "display_data"
    },
    {
     "data": {
      "text/html": [
       "Find internal logs for this run at: <code>/home/indika/Programming/Projects/Python/Artifical-Intelligence/PyTorch/NLP/Coronavirus-tweets-NLP-Text-Classification/wandb/run-20211009_203938-1lx9jtvc/logs/debug-internal.log</code>"
      ],
      "text/plain": [
       "<IPython.core.display.HTML object>"
      ]
     },
     "metadata": {},
     "output_type": "display_data"
    },
    {
     "data": {
      "text/html": [
       "<h3>Run summary:</h3><br/><style>\n",
       "    table.wandb td:nth-child(1) { padding: 0 10px; text-align: right }\n",
       "    </style><table class=\"wandb\">\n",
       "<tr><td>Loss</td><td>0.00395</td></tr><tr><td>_runtime</td><td>77</td></tr><tr><td>_timestamp</td><td>1633792255</td></tr><tr><td>_step</td><td>399</td></tr><tr><td>Val Loss</td><td>0.20197</td></tr><tr><td>Acc</td><td>99.5</td></tr><tr><td>Val Acc</td><td>45.6</td></tr></table>"
      ],
      "text/plain": [
       "<IPython.core.display.HTML object>"
      ]
     },
     "metadata": {},
     "output_type": "display_data"
    },
    {
     "data": {
      "text/html": [
       "<h3>Run history:</h3><br/><style>\n",
       "    table.wandb td:nth-child(1) { padding: 0 10px; text-align: right }\n",
       "    </style><table class=\"wandb\">\n",
       "<tr><td>Loss</td><td>█▄▂▂▁▁▁▁▁▁▁▁▁▁▁▁▁▁▁▁▁▁▁▁▁▁▁▁▁▁▁▁▁▁▁▁▁▁▁▁</td></tr><tr><td>_runtime</td><td>▁▁▁▁▂▂▂▂▂▃▃▃▃▃▄▄▄▄▄▄▅▅▅▅▅▅▆▆▆▆▆▇▇▇▇▇▇███</td></tr><tr><td>_timestamp</td><td>▁▁▁▁▂▂▂▂▂▃▃▃▃▃▄▄▄▄▄▄▅▅▅▅▅▅▆▆▆▆▆▇▇▇▇▇▇███</td></tr><tr><td>_step</td><td>▁▁▁▁▂▂▂▂▂▃▃▃▃▃▃▄▄▄▄▄▅▅▅▅▅▅▆▆▆▆▆▇▇▇▇▇▇███</td></tr><tr><td>Val Loss</td><td>▁▂▆▅▅▆▇▆▆▇▇▇▇▇▇█▇▇█▇█▇▇▇▇█▇▇▇▇█▆▇▇█▇▇▇▇▇</td></tr><tr><td>Acc</td><td>▁▆▇▇████████████████████████████████████</td></tr><tr><td>Val Acc</td><td>▂▃▆██▅▅▅▇▅▄▅▅▅▆▁▅▆▄▅▃▆▄▆▆▄▆▆▅▄▅▇▅▇▃▇█▇▇▆</td></tr></table><br/>"
      ],
      "text/plain": [
       "<IPython.core.display.HTML object>"
      ]
     },
     "metadata": {},
     "output_type": "display_data"
    },
    {
     "data": {
      "text/html": [
       "Synced 6 W&B file(s), 0 media file(s), 2 artifact file(s) and 1 other file(s)"
      ],
      "text/plain": [
       "<IPython.core.display.HTML object>"
      ]
     },
     "metadata": {},
     "output_type": "display_data"
    },
    {
     "data": {
      "text/html": [
       "\n",
       "                    <br/>Synced <strong style=\"color:#cdcd00\">baseline</strong>: <a href=\"https://wandb.ai/ranuga-d/kickstarter-NLP-v3/runs/1lx9jtvc\" target=\"_blank\">https://wandb.ai/ranuga-d/kickstarter-NLP-v3/runs/1lx9jtvc</a><br/>\n",
       "                "
      ],
      "text/plain": [
       "<IPython.core.display.HTML object>"
      ]
     },
     "metadata": {},
     "output_type": "display_data"
    }
   ],
   "source": [
    "wandb.init(project=PROJECT_NAME,name='baseline')\n",
    "for _ in tqdm(range(epochs)):\n",
    "    for i in range(0,len(X_train),batch_size):\n",
    "        X_batch = X_train[i:i+batch_size]\n",
    "        y_batch = y_train[i:i+batch_size]\n",
    "        preds = model(X_batch)\n",
    "        loss = criterion(preds,y_batch)\n",
    "        optimizer.zero_grad()\n",
    "        loss.backward()\n",
    "        optimizer.step()\n",
    "    model.eval()\n",
    "    torch.cuda.empty_cache()\n",
    "    wandb.log({'Loss':(get_loss(model,X_train,y_train,criterion)+get_loss(model,X_batch,y_batch,criterion)/2)})\n",
    "    torch.cuda.empty_cache()\n",
    "    wandb.log({'Val Loss':get_loss(model,X_test,y_test,criterion)})\n",
    "    torch.cuda.empty_cache()\n",
    "    wandb.log({'Acc':(get_accuracy(model,X_train,y_train)+get_accuracy(model,X_batch,y_batch))/2})\n",
    "    torch.cuda.empty_cache()\n",
    "    wandb.log({'Val Acc':get_accuracy(model,X_test,y_test)})\n",
    "    torch.cuda.empty_cache()\n",
    "    model.train()\n",
    "wandb.finish()\n",
    "torch.cuda.empty_cache()"
   ]
  },
  {
   "cell_type": "code",
   "execution_count": 25,
   "id": "d0f2449b-38ab-4562-8de8-bf069f4192e4",
   "metadata": {},
   "outputs": [],
   "source": [
    "torch.save(model,'model.pt')\n",
    "torch.save(model,'model.pth')\n",
    "torch.save(model.state_dict(),'model-sd.pt')\n",
    "torch.save(model.state_dict(),'model-sd.pth')\n",
    "torch.save(words,'words.pt')\n",
    "torch.save(words,'words.pth')\n",
    "torch.save(data,'data.pt')\n",
    "torch.save(data,'data.pth')\n",
    "torch.save(labels,'labels.pt')\n",
    "torch.save(labels,'labels.pth')\n",
    "torch.save(idx,'idx.pt')\n",
    "torch.save(idx,'idx.pth')\n",
    "torch.save(y_train,'y_train.pt')\n",
    "torch.save(y_test,'y_test.pth')"
   ]
  },
  {
   "cell_type": "code",
   "execution_count": null,
   "id": "cc0ada7a-2d16-4872-af69-1dbd8c720b16",
   "metadata": {},
   "outputs": [],
   "source": []
  }
 ],
 "metadata": {
  "kernelspec": {
   "display_name": "Python 3.7.3 64-bit ('base': conda)",
   "language": "python",
   "name": "python373jvsc74a57bd0210f9608a45c0278a93c9e0b10db32a427986ab48cfc0d20c139811eb78c4bbc"
  },
  "language_info": {
   "codemirror_mode": {
    "name": "ipython",
    "version": 3
   },
   "file_extension": ".py",
   "mimetype": "text/x-python",
   "name": "python",
   "nbconvert_exporter": "python",
   "pygments_lexer": "ipython3",
   "version": "3.7.11"
  }
 },
 "nbformat": 4,
 "nbformat_minor": 5
}
